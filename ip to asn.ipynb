{
 "cells": [
  {
   "cell_type": "markdown",
   "metadata": {},
   "source": [
    "# Ref: https://pypi.org/project/pyasn/#files"
   ]
  },
  {
   "cell_type": "code",
   "execution_count": 126,
   "metadata": {},
   "outputs": [],
   "source": [
    "import pyasn\n",
    "import pandas as pd"
   ]
  },
  {
   "cell_type": "code",
   "execution_count": 116,
   "metadata": {},
   "outputs": [],
   "source": [
    "ipgoogleset = set()\n",
    "with open('google.csv','r') as f:\n",
    "    with open('google-ip.csv','w') as out_file:\n",
    "        for line in f:\n",
    "            out_file.write(line.split('/')[0]+'\\n')\n",
    "            ipgoogleset.add(line.split('/')[0])"
   ]
  },
  {
   "cell_type": "code",
   "execution_count": 34,
   "metadata": {},
   "outputs": [],
   "source": [
    "ipamazonset=set()\n",
    "with open('amazon.csv','r') as f:\n",
    "    with open('amazon-ip.csv','w') as out_file:\n",
    "        for line in f:\n",
    "            out_file.write(line.split('/')[0]+'\\n')\n",
    "            ipamazonset.add(line.split('/')[0])"
   ]
  },
  {
   "cell_type": "code",
   "execution_count": 36,
   "metadata": {},
   "outputs": [],
   "source": [
    "ipibmset = set()\n",
    "with open('ibm.csv','r') as f:\n",
    "    with open('ibm-ip.csv','w') as out_file:\n",
    "        for line in f:\n",
    "            out_file.write(line.split('/')[0]+'\\n')\n",
    "            ipibmset.add(line.split('/')[0])"
   ]
  },
  {
   "cell_type": "markdown",
   "metadata": {},
   "source": [
    "# ipasn_db\n",
    "pyasn_util_download.py --latest\n",
    "\n",
    "pyasn_util_convert.py --single \"Downloaded RIB File\" \"ipasn_db_file_name\""
   ]
  },
  {
   "cell_type": "code",
   "execution_count": 111,
   "metadata": {},
   "outputs": [],
   "source": [
    "# Initialize module and load IP to ASN database\n",
    "# the sample database can be downloaded or built - see below\n",
    "asndb = pyasn.pyasn('ipasn_db')\n",
    "\n",
    "\n",
    "# should return: (15169, '8.8.8.0/24'), the origin AS, and the BGP prefix it matches\n",
    "\n",
    "#asndb.get_as_prefixes(1128)\n",
    "# returns ['130.161.0.0/16', '131.180.0.0/16', '145.94.0.0/16'], TU-Delft prefixes"
   ]
  },
  {
   "cell_type": "code",
   "execution_count": 118,
   "metadata": {},
   "outputs": [],
   "source": [
    "for ip in ipgoogleset:\n",
    "    asndb.lookup(ip)"
   ]
  },
  {
   "cell_type": "code",
   "execution_count": 112,
   "metadata": {},
   "outputs": [],
   "source": [
    "for ip in ipamazonset:\n",
    "    asndb.lookup(ip)"
   ]
  },
  {
   "cell_type": "code",
   "execution_count": 113,
   "metadata": {},
   "outputs": [],
   "source": [
    "for ip in ipibmset:\n",
    "    asndb.lookup(ip)"
   ]
  },
  {
   "cell_type": "code",
   "execution_count": 143,
   "metadata": {
    "scrolled": true
   },
   "outputs": [],
   "source": [
    "for ip in ipset:\n",
    "    #print(type(ip))\n",
    "    asndb.lookup(ip)"
   ]
  },
  {
   "cell_type": "code",
   "execution_count": 134,
   "metadata": {},
   "outputs": [],
   "source": [
    "ipset = set(pd.read_csv('ip.csv',header=None)[0])"
   ]
  },
  {
   "cell_type": "code",
   "execution_count": 136,
   "metadata": {},
   "outputs": [
    {
     "data": {
      "text/plain": [
       "set()"
      ]
     },
     "execution_count": 136,
     "metadata": {},
     "output_type": "execute_result"
    }
   ],
   "source": [
    "ipset.intersection(ipgoogleset)"
   ]
  },
  {
   "cell_type": "code",
   "execution_count": 137,
   "metadata": {},
   "outputs": [
    {
     "data": {
      "text/plain": [
       "set()"
      ]
     },
     "execution_count": 137,
     "metadata": {},
     "output_type": "execute_result"
    }
   ],
   "source": [
    "ipset.intersection(ipamazonset)"
   ]
  },
  {
   "cell_type": "code",
   "execution_count": 138,
   "metadata": {},
   "outputs": [
    {
     "data": {
      "text/plain": [
       "set()"
      ]
     },
     "execution_count": 138,
     "metadata": {},
     "output_type": "execute_result"
    }
   ],
   "source": [
    "ipset.intersection(ipibmset)"
   ]
  }
 ],
 "metadata": {
  "kernelspec": {
   "display_name": "Python 3",
   "language": "python",
   "name": "python3"
  },
  "language_info": {
   "codemirror_mode": {
    "name": "ipython",
    "version": 3
   },
   "file_extension": ".py",
   "mimetype": "text/x-python",
   "name": "python",
   "nbconvert_exporter": "python",
   "pygments_lexer": "ipython3",
   "version": "3.7.0"
  }
 },
 "nbformat": 4,
 "nbformat_minor": 2
}
